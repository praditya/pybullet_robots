{
 "cells": [
  {
   "cell_type": "code",
   "execution_count": 1,
   "metadata": {},
   "outputs": [],
   "source": [
    "import pybullet as p\n",
    "import time\n",
    "\n",
    "p.connect(p.GUI)\n",
    "plane = p.loadURDF(\"plane.urdf\")\n",
    "p.setGravity(0,0,-9.8)\n",
    "p.setTimeStep(1./500)\n",
    "#p.setDefaultContactERP(0)\n",
    "#urdfFlags = p.URDF_USE_SELF_COLLISION+p.URDF_USE_SELF_COLLISION_EXCLUDE_ALL_PARENTS \n",
    "urdfFlags = p.URDF_USE_SELF_COLLISION\n",
    "quadruped = p.loadURDF(\"quadroit/quadroit_v1.urdf\",[0,0,.5],[0,0.5,0.5,0], flags = urdfFlags,useFixedBase=False)"
   ]
  },
  {
   "cell_type": "code",
   "execution_count": 3,
   "metadata": {},
   "outputs": [
    {
     "name": "stdout",
     "output_type": "stream",
     "text": [
      "(0, b'dummy_base_link_torso', 4, -1, -1, 0, 0.0, 0.0, 0.0, -1.0, 0.0, 0.0, b'torso', (0.0, 0.0, 0.0), (0.0, 0.0, 0.0), (0.0, 0.0, 0.0, 1.0), -1)\n",
      "(1, b'joint_fr_torso_hip', 0, 7, 6, 1, 0.0, 0.0, -1.57, 1.57, 1000.0, 0.5, b'leg_fr_hip', (0.0, 0.0, 1.0), (0.3, -0.21001874599999998, 0.0070117), (-0.004099897684441358, -0.7070949102746698, -0.004099897684441413, 0.7070948801551394), 0)\n",
      "(2, b'joint_fr_hip_thigh', 0, 8, 7, 1, 0.0, 0.0, -1.57, 1.57, 1000.0, 0.5, b'leg_fr_thigh', (0.0, 0.0, 1.0), (0.042541, 0.0, 0.0), (-0.7035237643974682, -0.0711063456110291, 0.07110660679970038, 0.7035211802151327), 1)\n",
      "(3, b'joint_fr_thigh_shank', 0, 9, 8, 1, 0.0, 0.0, -1.57, 1.57, 1000.0, 0.5, b'leg_fr_shank', (0.0, 0.0, 1.0), (0.1, -0.00053754, 0.0), (0.0, 0.0, -0.44612420165766836, 0.8949710591383992), 2)\n",
      "(4, b'joint_fr_foot', 4, -1, -1, 0, 0.0, 0.0, 0.0, -1.0, 0.0, 0.0, b'leg_fr_foot', (0.0, 0.0, 0.0), (0.11704, -1.1102e-16, -6.9389e-18), (0.0, 0.0, 0.0, 1.0), 3)\n",
      "(5, b'joint_fl_torso_hip', 0, 10, 9, 1, 0.0, 0.0, -1.57, 1.57, 1000.0, 0.5, b'leg_fl_hip', (0.0, 0.0, 1.0), (0.3, 0.209981254, 0.0070117), (0.0019078873201396904, -0.7071042142971807, 0.0019078873201396904, 0.7071042002810577), 0)\n",
      "(6, b'joint_fl_hip_thigh', 0, 11, 10, 1, 0.0, 0.0, -1.57, 1.57, 1000.0, 0.5, b'leg_fl_thigh', (0.0, 0.0, 1.0), (0.042541, 0.0, 0.0), (-0.7035237643974682, -0.0711063456110291, 0.07110660679970038, 0.7035211802151327), 5)\n",
      "(7, b'joint_fl_thigh_shank', 0, 12, 11, 1, 0.0, 0.0, -1.57, 1.57, 1000.0, 0.5, b'leg_fl_shank', (0.0, 0.0, 1.0), (0.1, -0.00053754, 0.0), (0.0, 0.0, -0.44612420165766836, 0.8949710591383992), 6)\n",
      "(8, b'joint_fl_foot', 4, -1, -1, 0, 0.0, 0.0, 0.0, -1.0, 0.0, 0.0, b'leg_fl_foot', (0.0, 0.0, 0.0), (0.11704, -3.3307e-16, 5.5511e-17), (0.0, 0.0, 0.0, 1.0), 7)\n",
      "(9, b'joint_rl_torso_hip', 0, 13, 12, 1, 0.0, 0.0, -1.57, 1.57, 1000.0, 0.5, b'leg_rl_hip', (0.0, 0.0, 1.0), (-0.3, 0.209981254, 0.0070117), (0.016578836027906163, -0.7069124615497355, 0.016578836027906215, 0.7069123397548053), 0)\n",
      "(10, b'joint_rl_hip_thigh', 0, 14, 13, 1, 0.0, 0.0, -1.57, 1.57, 1000.0, 0.5, b'leg_rl_thigh', (0.0, 0.0, 1.0), (0.042541, 1.1102e-16, 5.5511e-17), (-0.7035237643974682, -0.0711063456110291, 0.07110660679970038, 0.7035211802151327), 9)\n",
      "(11, b'joint_rl_thigh_shank', 0, 15, 14, 1, 0.0, 0.0, -1.57, 1.57, 1000.0, 0.5, b'leg_rl_shank', (0.0, 0.0, 1.0), (0.1, -0.00053754, 5.5511e-17), (0.0, 0.0, -0.44612420165766836, 0.8949710591383992), 10)\n",
      "(12, b'joint_rl_foot', 4, -1, -1, 0, 0.0, 0.0, 0.0, -1.0, 0.0, 0.0, b'leg_rl_foot', (0.0, 0.0, 0.0), (0.11704, 1.1102e-16, -5.5511e-17), (0.0, 0.0, 0.0, 1.0), 11)\n",
      "(13, b'joint_rr_torso_hip', 0, 16, 15, 1, 0.0, 0.0, -1.57, 1.57, 1000.0, 0.5, b'leg_rr_hip', (0.0, 0.0, 1.0), (-0.3, -0.21001874599999998, 0.0070117), (-0.00035225470190258795, -0.70710669474025, -0.00035225470190253244, 0.7071066921524424), 0)\n",
      "(14, b'joint_rr_hip_thigh', 0, 17, 16, 1, 0.0, 0.0, -1.57, 1.57, 1000.0, 0.5, b'leg_rr_thigh', (0.0, 0.0, 1.0), (0.042541, -2.0817e-17, 5.5511e-17), (-0.7035237643974682, -0.0711063456110291, 0.07110660679970038, 0.7035211802151327), 13)\n",
      "(15, b'joint_rr_thigh_shank', 0, 18, 17, 1, 0.0, 0.0, -1.57, 1.57, 1000.0, 0.5, b'leg_rr_shank', (0.0, 0.0, 1.0), (0.1, -0.00053754, 1.3878e-17), (0.0, 0.0, -0.44612420165766836, 0.8949710591383992), 14)\n",
      "(16, b'joint_rr_foot', 4, -1, -1, 0, 0.0, 0.0, 0.0, -1.0, 0.0, 0.0, b'leg_rr_foot', (0.0, 0.0, 0.0), (0.11704, 0.0, 0.0), (0.0, 0.0, 0.0, 1.0), 15)\n"
     ]
    }
   ],
   "source": [
    "#enable collision between lower legs\n",
    "\n",
    "for j in range (p.getNumJoints(quadruped)):\n",
    "        print(p.getJointInfo(quadruped,j))\n"
   ]
  },
  {
   "cell_type": "code",
   "execution_count": null,
   "metadata": {},
   "outputs": [
    {
     "name": "stdout",
     "output_type": "stream",
     "text": [
      "collision for pair 2 5 b'leg_fr_thigh' b'leg_fl_hip' enabled= 1\n",
      "collision for pair 2 8 b'leg_fr_thigh' b'leg_fl_foot' enabled= 1\n",
      "collision for pair 2 11 b'leg_fr_thigh' b'leg_rl_shank' enabled= 1\n",
      "collision for pair 5 8 b'leg_fl_hip' b'leg_fl_foot' enabled= 1\n",
      "collision for pair 5 11 b'leg_fl_hip' b'leg_rl_shank' enabled= 1\n",
      "collision for pair 8 11 b'leg_fl_foot' b'leg_rl_shank' enabled= 1\n"
     ]
    }
   ],
   "source": [
    "#2,5,8 and 11 are the lower legs\n",
    "lower_legs = [2,5,8,11]\n",
    "for l0 in lower_legs:\n",
    "    for l1 in lower_legs:\n",
    "        if (l1>l0):\n",
    "            enableCollision = 1\n",
    "            print(\"collision for pair\",l0,l1, p.getJointInfo(quadruped,l0)[12],p.getJointInfo(quadruped,l1)[12], \"enabled=\",enableCollision)\n",
    "            p.setCollisionFilterPair(quadruped, quadruped, l0,l1,enableCollision)\n",
    "\n",
    "jointIds=[]\n",
    "paramIds=[]\n",
    "jointOffsets=[]\n",
    "jointDirections=[-1,1,1,1,1,1,-1,1,1,1,1,1]\n",
    "jointAngles=[0,0,0,0,0,0,0,0,0,0,0,0]\n",
    "\n",
    "for i in range (4):\n",
    "    jointOffsets.append(0)\n",
    "    jointOffsets.append(-0.7)\n",
    "    jointOffsets.append(0.7)\n",
    "\n",
    "maxForceId = p.addUserDebugParameter(\"maxForce\",0,100,20)\n",
    "\n",
    "for j in range (p.getNumJoints(quadruped)):\n",
    "        p.changeDynamics(quadruped,j,linearDamping=0, angularDamping=0)\n",
    "        info = p.getJointInfo(quadruped,j)\n",
    "        #print(info)\n",
    "        jointName = info[1]\n",
    "        jointType = info[2]\n",
    "        if (jointType==p.JOINT_PRISMATIC or jointType==p.JOINT_REVOLUTE):\n",
    "                jointIds.append(j)\n",
    "\n",
    "\n",
    "p.getCameraImage(480,320)\n",
    "p.setRealTimeSimulation(0)\n",
    "\n",
    "joints=[]\n",
    "\n",
    "with open(\"data1.txt\",\"r\") as filestream:\n",
    "    for line in filestream:\n",
    "        maxForce = p.readUserDebugParameter(maxForceId)\n",
    "        currentline = line.split(\",\")\n",
    "        frame = currentline[0]\n",
    "        t = currentline[1]\n",
    "        joints=currentline[2:14]\n",
    "        for j in range (12):\n",
    "            targetPos = float(joints[j])\n",
    "            p.setJointMotorControl2(quadruped,jointIds[j],p.POSITION_CONTROL,jointDirections[j]*targetPos+jointOffsets[j], force=maxForce)\n",
    "        p.stepSimulation()\n",
    "        for lower_leg in lower_legs:\n",
    "            #print(\"points for \", quadruped, \" link: \", lower_leg)\n",
    "            pts = p.getContactPoints(quadruped,-1, lower_leg)\n",
    "            #print(\"num points=\",len(pts))\n",
    "            #for pt in pts:\n",
    "            #print(pt[9])\n",
    "        time.sleep(1./500.)\n",
    "\n",
    "\n",
    "index = 0\n",
    "for j in range (p.getNumJoints(quadruped)):\n",
    "        p.changeDynamics(quadruped,j,linearDamping=0, angularDamping=0)\n",
    "        info = p.getJointInfo(quadruped,j)\n",
    "        js = p.getJointState(quadruped,j)\n",
    "        #print(info)\n",
    "        jointName = info[1]\n",
    "        jointType = info[2]\n",
    "        if (jointType==p.JOINT_PRISMATIC or jointType==p.JOINT_REVOLUTE):\n",
    "                paramIds.append(p.addUserDebugParameter(jointName.decode(\"utf-8\"),-4,4,(js[0]-jointOffsets[index])/jointDirections[index]))\n",
    "                index=index+1\n",
    "\n",
    "\n",
    "p.setRealTimeSimulation(1)\n",
    "\n",
    "while (1):\n",
    "    \n",
    "    for i in range(len(paramIds)):\n",
    "        c = paramIds[i]\n",
    "        targetPos = p.readUserDebugParameter(c)\n",
    "        maxForce = p.readUserDebugParameter(maxForceId)\n",
    "        p.setJointMotorControl2(quadruped,jointIds[i],p.POSITION_CONTROL,jointDirections[i]*targetPos+jointOffsets[i], force=maxForce)\n",
    "    "
   ]
  },
  {
   "cell_type": "code",
   "execution_count": null,
   "metadata": {},
   "outputs": [],
   "source": []
  }
 ],
 "metadata": {
  "kernelspec": {
   "display_name": "Python 3",
   "language": "python",
   "name": "python3"
  },
  "language_info": {
   "codemirror_mode": {
    "name": "ipython",
    "version": 3
   },
   "file_extension": ".py",
   "mimetype": "text/x-python",
   "name": "python",
   "nbconvert_exporter": "python",
   "pygments_lexer": "ipython3",
   "version": "3.5.2"
  }
 },
 "nbformat": 4,
 "nbformat_minor": 2
}
